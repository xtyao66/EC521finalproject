{
 "cells": [
  {
   "cell_type": "code",
   "execution_count": 1,
   "metadata": {},
   "outputs": [],
   "source": [
    "# Import necessary libraries\n",
    "import pandas as pd\n",
    "import numpy as np\n",
    "import tldextract\n",
    "from sklearn.model_selection import train_test_split\n",
    "from sklearn.feature_extraction.text import TfidfVectorizer\n",
    "from sklearn.preprocessing import StandardScaler\n",
    "import torch\n",
    "import torch.nn as nn\n",
    "import torch.optim as optim\n",
    "from torch.utils.data import DataLoader, TensorDataset\n",
    "from sklearn.metrics import accuracy_score, precision_score, recall_score, f1_score\n"
   ]
  },
  {
   "cell_type": "code",
   "execution_count": 2,
   "metadata": {},
   "outputs": [],
   "source": [
    "# Load the dataset\n",
    "data = pd.read_csv('dataset_phishing.csv')\n",
    "\n",
    "# Feature and label extraction\n",
    "X = data['url']\n",
    "y = data['status'].apply(lambda x: 1 if x == 'phishing' else 0)\n",
    "\n",
    "# Character n-gram TF-IDF vectorization\n",
    "vectorizer = TfidfVectorizer(analyzer='char', ngram_range=(2, 5), max_features=1000)\n",
    "X_tfidf = vectorizer.fit_transform(X)\n",
    "\n",
    "# Fit the scaler only on the training data and transform both sets\n",
    "X_train, X_test, y_train, y_test = train_test_split(X_tfidf, y, test_size=0.2, random_state=42)\n",
    "scaler = StandardScaler(with_mean=False)\n",
    "X_train_scaled = scaler.fit_transform(X_train)\n",
    "X_test_scaled = scaler.transform(X_test)\n",
    "\n",
    "# Convert to PyTorch tensors\n",
    "X_train_tensor = torch.tensor(X_train_scaled.toarray(), dtype=torch.float32)\n",
    "y_train_tensor = torch.tensor(y_train.values, dtype=torch.float32)\n",
    "X_test_tensor = torch.tensor(X_test_scaled.toarray(), dtype=torch.float32)\n",
    "y_test_tensor = torch.tensor(y_test.values, dtype=torch.float32)\n",
    "\n",
    "# DataLoader\n",
    "train_loader = DataLoader(TensorDataset(X_train_tensor, y_train_tensor), batch_size=64, shuffle=True)\n",
    "test_loader = DataLoader(TensorDataset(X_test_tensor, y_test_tensor), batch_size=64, shuffle=False)"
   ]
  },
  {
   "cell_type": "code",
   "execution_count": 3,
   "metadata": {},
   "outputs": [],
   "source": [
    "class Attention(nn.Module):\n",
    "    def __init__(self, feature_dim):\n",
    "        super(Attention, self).__init__()\n",
    "        self.feature_dim = feature_dim\n",
    "        self.proj = nn.Linear(feature_dim, 64)\n",
    "        self.out = nn.Linear(64, feature_dim)  # Ensure output dimension matches feature_dim\n",
    "\n",
    "    def forward(self, x):\n",
    "        eij = self.proj(x)\n",
    "        eij = torch.tanh(eij)\n",
    "        eij = self.out(eij)\n",
    "        a = torch.softmax(eij, dim=1)\n",
    "        weighted_input = x * a\n",
    "        return weighted_input  # Return the weighted input for further processing\n",
    "\n",
    "class AdvancedURLNetWithAttention(nn.Module):\n",
    "    def __init__(self, num_features):\n",
    "        super(AdvancedURLNetWithAttention, self).__init__()\n",
    "        self.fc1 = nn.Linear(num_features, 512)\n",
    "        self.relu1 = nn.ReLU()\n",
    "        self.dropout = nn.Dropout(0.5)\n",
    "        self.attention = Attention(512)\n",
    "        self.fc2 = nn.Linear(512, 256)  # Ensure this matches the output of attention\n",
    "        self.relu2 = nn.ReLU()\n",
    "        self.fc3 = nn.Linear(256, 1)\n",
    "        self.sigmoid = nn.Sigmoid()\n",
    "\n",
    "    def forward(self, x):\n",
    "        x = self.fc1(x)\n",
    "        x = self.relu1(x)\n",
    "        x = self.dropout(x)\n",
    "        x = self.attention(x)\n",
    "        x = self.fc2(x)\n",
    "        x = self.relu2(x)\n",
    "        x = self.fc3(x)\n",
    "        x = self.sigmoid(x)\n",
    "        return x"
   ]
  },
  {
   "cell_type": "code",
   "execution_count": 4,
   "metadata": {},
   "outputs": [
    {
     "name": "stdout",
     "output_type": "stream",
     "text": [
      "CUDA available: True\n"
     ]
    }
   ],
   "source": [
    "\n",
    "# Check CUDA availability\n",
    "cuda_available = torch.cuda.is_available()\n",
    "print('CUDA available:', cuda_available)\n",
    "\n",
    "# Define the model, loss function, and optimizer\n",
    "model = AdvancedURLNetWithAttention(X_train_tensor.shape[1])  # assuming this class is defined correctly\n",
    "criterion = nn.BCELoss()\n",
    "optimizer = optim.Adam(model.parameters(), lr=0.0004)\n",
    "\n",
    "# Training and evaluation logic goes here"
   ]
  },
  {
   "cell_type": "code",
   "execution_count": 5,
   "metadata": {},
   "outputs": [],
   "source": [
    "# Check CUDA availability\n",
    "cuda_available = torch.cuda.is_available()\n",
    "\n",
    "# Training function\n",
    "def train_model(model, train_loader, criterion, optimizer, epochs=10):\n",
    "    if cuda_available:\n",
    "        model = model.cuda()\n",
    "    for epoch in range(epochs):\n",
    "        model.train()\n",
    "        for inputs, labels in train_loader:\n",
    "            if cuda_available:\n",
    "                inputs, labels = inputs.cuda(), labels.cuda()\n",
    "            optimizer.zero_grad()\n",
    "            outputs = model(inputs)\n",
    "            loss = criterion(outputs.squeeze(), labels)\n",
    "            loss.backward()\n",
    "            optimizer.step()\n",
    "        print(f\"Epoch {epoch+1}/{epochs}, Loss: {loss.item()}\")\n",
    "\n",
    "# Evaluation function\n",
    "def evaluate_model(model, test_loader):\n",
    "    model.eval()\n",
    "    all_preds, all_labels = [], []\n",
    "    with torch.no_grad():\n",
    "        for inputs, labels in test_loader:\n",
    "            if cuda_available:\n",
    "                inputs, labels = inputs.cuda(), labels.cuda()\n",
    "            outputs = model(inputs)\n",
    "            predicted = (outputs.squeeze() > 0.5).float()\n",
    "            all_preds.extend(predicted.cpu().numpy())  # Move predictions back to CPU\n",
    "            all_labels.extend(labels.cpu().numpy())    # Move labels back to CPU\n",
    "    accuracy = accuracy_score(all_labels, all_preds)\n",
    "    precision = precision_score(all_labels, all_preds)\n",
    "    recall = recall_score(all_labels, all_preds)\n",
    "    f1 = f1_score(all_labels, all_preds)\n",
    "    print(f\"Accuracy: {accuracy}, Precision: {precision}, Recall: {recall}, F1-Score: {f1}\")\n",
    "\n"
   ]
  },
  {
   "cell_type": "code",
   "execution_count": 6,
   "metadata": {},
   "outputs": [
    {
     "name": "stdout",
     "output_type": "stream",
     "text": [
      "Epoch 1/50, Loss: 0.2174403816461563\n",
      "Epoch 2/50, Loss: 0.11305555701255798\n",
      "Epoch 3/50, Loss: 0.20063000917434692\n",
      "Epoch 4/50, Loss: 0.1452265828847885\n",
      "Epoch 5/50, Loss: 0.19266310334205627\n",
      "Epoch 6/50, Loss: 0.2560330033302307\n",
      "Epoch 7/50, Loss: 0.19283118844032288\n",
      "Epoch 8/50, Loss: 0.1334250420331955\n",
      "Epoch 9/50, Loss: 0.04060792922973633\n",
      "Epoch 10/50, Loss: 0.08784619718790054\n",
      "Epoch 11/50, Loss: 0.056720562279224396\n",
      "Epoch 12/50, Loss: 0.013113554567098618\n",
      "Epoch 13/50, Loss: 0.14176133275032043\n",
      "Epoch 14/50, Loss: 0.017495980486273766\n",
      "Epoch 15/50, Loss: 0.010683671571314335\n",
      "Epoch 16/50, Loss: 0.06407639384269714\n",
      "Epoch 17/50, Loss: 0.012251357547938824\n",
      "Epoch 18/50, Loss: 0.03344601020216942\n",
      "Epoch 19/50, Loss: 0.0532824732363224\n",
      "Epoch 20/50, Loss: 0.058811381459236145\n",
      "Epoch 21/50, Loss: 0.018506919965147972\n",
      "Epoch 22/50, Loss: 0.010648740455508232\n",
      "Epoch 23/50, Loss: 0.05117183178663254\n",
      "Epoch 24/50, Loss: 0.09678561240434647\n",
      "Epoch 25/50, Loss: 0.027561470866203308\n",
      "Epoch 26/50, Loss: 0.0019145882688462734\n",
      "Epoch 27/50, Loss: 0.0006508579244837165\n",
      "Epoch 28/50, Loss: 0.011705804616212845\n",
      "Epoch 29/50, Loss: 0.0012790095061063766\n",
      "Epoch 30/50, Loss: 0.004168867599219084\n",
      "Epoch 31/50, Loss: 0.005235202144831419\n",
      "Epoch 32/50, Loss: 0.026012970134615898\n",
      "Epoch 33/50, Loss: 0.014428569003939629\n",
      "Epoch 34/50, Loss: 0.02542800083756447\n",
      "Epoch 35/50, Loss: 0.0013721936848014593\n",
      "Epoch 36/50, Loss: 0.0003238221979700029\n",
      "Epoch 37/50, Loss: 0.002312507014721632\n",
      "Epoch 38/50, Loss: 0.0010956906480714679\n",
      "Epoch 39/50, Loss: 0.0005072822677902877\n",
      "Epoch 40/50, Loss: 0.04400580748915672\n",
      "Epoch 41/50, Loss: 6.572566780960187e-05\n",
      "Epoch 42/50, Loss: 0.00012945159687660635\n",
      "Epoch 43/50, Loss: 0.000899637583643198\n",
      "Epoch 44/50, Loss: 0.009764126501977444\n",
      "Epoch 45/50, Loss: 0.005611975211650133\n",
      "Epoch 46/50, Loss: 0.00033436986268498003\n",
      "Epoch 47/50, Loss: 0.004122748039662838\n",
      "Epoch 48/50, Loss: 0.016837652772665024\n",
      "Epoch 49/50, Loss: 0.009260281920433044\n",
      "Epoch 50/50, Loss: 0.015491196885704994\n"
     ]
    }
   ],
   "source": [
    "# Train and evaluate the model\n",
    "train_model(model, train_loader, criterion, optimizer, epochs=50)"
   ]
  },
  {
   "cell_type": "code",
   "execution_count": 7,
   "metadata": {},
   "outputs": [
    {
     "name": "stdout",
     "output_type": "stream",
     "text": [
      "Accuracy: 0.9125109361329834, Precision: 0.9042645778938208, Recall: 0.9202834366696191, F1-Score: 0.9122036874451273\n"
     ]
    }
   ],
   "source": [
    "evaluate_model(model, test_loader)"
   ]
  },
  {
   "cell_type": "code",
   "execution_count": 17,
   "metadata": {},
   "outputs": [
    {
     "name": "stdout",
     "output_type": "stream",
     "text": [
      "Benign\n"
     ]
    }
   ],
   "source": [
    "def transform_and_predict_single(url, vectorizer, scaler, model):\n",
    "    # Transform the URL using the pre-fitted TF-IDF vectorizer\n",
    "    tfidf_features = vectorizer.transform([url]).toarray()\n",
    "    \n",
    "    # Standardize the features using the pre-fitted scaler\n",
    "    scaled_features = scaler.transform(tfidf_features)\n",
    "\n",
    "    # Convert to PyTorch tensor\n",
    "    features_tensor = torch.tensor(scaled_features, dtype=torch.float32)\n",
    "\n",
    "    # Predict using the model\n",
    "    model.eval()  # Set the model to evaluation mode\n",
    "    with torch.no_grad():\n",
    "        prediction = model(features_tensor)\n",
    "        predicted_class = (prediction.squeeze() > 0.5).float()\n",
    "        return predicted_class.item()  # Return the prediction as a Python scalar\n",
    "\n",
    "# Example usage for a single URL\n",
    "single_url = \"http://example.com\"\n",
    "prediction = transform_and_predict_single(single_url, vectorizer, scaler, model)\n",
    "print(\"Malicious\" if prediction == 1 else \"Benign\")\n",
    "\n"
   ]
  }
 ],
 "metadata": {
  "kernelspec": {
   "display_name": "base",
   "language": "python",
   "name": "python3"
  },
  "language_info": {
   "codemirror_mode": {
    "name": "ipython",
    "version": 3
   },
   "file_extension": ".py",
   "mimetype": "text/x-python",
   "name": "python",
   "nbconvert_exporter": "python",
   "pygments_lexer": "ipython3",
   "version": "3.11.5"
  }
 },
 "nbformat": 4,
 "nbformat_minor": 2
}
